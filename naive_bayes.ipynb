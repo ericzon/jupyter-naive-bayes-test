{
 "cells": [
  {
   "cell_type": "code",
   "execution_count": 57,
   "metadata": {
    "scrolled": false
   },
   "outputs": [
    {
     "name": "stdout",
     "output_type": "stream",
     "text": [
      "data_train 100\n",
      "labels_train 100\n",
      "data_to_train 90\n",
      "labels_to_train 90\n",
      "data_to_test 10\n",
      "labels_to_test 10\n",
      "labels_to_test [0 1 1 0 1 1 1 0 0 1]\n",
      "predictions    [0 1 1 0 1 1 1 0 0 1]\n",
      "We get a 100.0 % of accuracy\n"
     ]
    }
   ],
   "source": [
    "from sklearn.datasets import make_classification\n",
    "from sklearn.model_selection import train_test_split\n",
    "\n",
    "# 100 Datos aleatorios con 10 características con etiquetas 0 o 1\n",
    "data_train, labels_train = make_classification(n_samples=100, n_features=10)\n",
    "\n",
    "print(\"data_train\", len(data_train))\n",
    "print(\"labels_train\", len(labels_train))\n",
    "\n",
    "# se testea con un .1 (10%). Lo separamos de esta forma\n",
    "data_to_train, data_to_test, labels_to_train, labels_to_test = train_test_split(data_train, labels_train, test_size=.1)\n",
    "\n",
    "## Clasificador Naive Bayes (tipo supervisado)\n",
    "\n",
    "from sklearn.naive_bayes import GaussianNB\n",
    "\n",
    "# Creamos el clasificador\n",
    "clf = GaussianNB()\n",
    "\n",
    "# Lo entrenamos\n",
    "clf.fit(data_to_train, labels_to_train)\n",
    "\n",
    "# Hacemos una predicción\n",
    "predictions = clf.predict(data_to_test)\n",
    "\n",
    "# Vemos comportamiento comparando las etiquetas esperadas con las recibidas\n",
    "# Deberían ser iguales\n",
    "\n",
    "print(\"data_to_train\", len(data_to_train))\n",
    "print(\"labels_to_train\", len(labels_to_train))\n",
    "print(\"data_to_test\", len(data_to_test))\n",
    "print(\"labels_to_test\", len(labels_to_test))\n",
    "\n",
    "print(\"labels_to_test\", labels_to_test)\n",
    "print(\"predictions   \", predictions)\n",
    "\n",
    "\n",
    "from sklearn.metrics import accuracy_score\n",
    "\n",
    "acc = accuracy_score(predictions, labels_to_test)\n",
    "\n",
    "# % de acierto\n",
    "print(\"We get a\",acc * 100,\"% of accuracy\")"
   ]
  }
 ],
 "metadata": {
  "kernelspec": {
   "display_name": "Python 3",
   "language": "python",
   "name": "python3"
  },
  "language_info": {
   "codemirror_mode": {
    "name": "ipython",
    "version": 3
   },
   "file_extension": ".py",
   "mimetype": "text/x-python",
   "name": "python",
   "nbconvert_exporter": "python",
   "pygments_lexer": "ipython3",
   "version": "3.7.3"
  }
 },
 "nbformat": 4,
 "nbformat_minor": 2
}
